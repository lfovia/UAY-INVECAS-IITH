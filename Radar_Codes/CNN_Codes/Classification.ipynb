{
  "nbformat": 4,
  "nbformat_minor": 0,
  "metadata": {
    "kernelspec": {
      "display_name": "Python 3",
      "language": "python",
      "name": "python3"
    },
    "language_info": {
      "codemirror_mode": {
        "name": "ipython",
        "version": 3
      },
      "file_extension": ".py",
      "mimetype": "text/x-python",
      "name": "python",
      "nbconvert_exporter": "python",
      "pygments_lexer": "ipython3",
      "version": "3.7.3"
    },
    "colab": {
      "name": "Classification.ipynb",
      "provenance": [],
      "collapsed_sections": []
    }
  },
  "cells": [
    {
      "cell_type": "code",
      "metadata": {
        "id": "DCdr5CW-4G1d",
        "colab": {
          "base_uri": "https://localhost:8080/"
        },
        "outputId": "92de65f7-25a3-4abf-c154-d95c8c1072a0"
      },
      "source": [
        "from google.colab import drive\n",
        "drive.mount('/content/drive')"
      ],
      "execution_count": null,
      "outputs": [
        {
          "output_type": "stream",
          "text": [
            "Mounted at /content/drive\n"
          ],
          "name": "stdout"
        }
      ]
    },
    {
      "cell_type": "code",
      "metadata": {
        "id": "k_I7HFFKKE7H"
      },
      "source": [
        "### import Data \n",
        "import pandas as pd\n",
        "carh = pd.read_csv('/content/drive/MyDrive/uay cnn/car-hor.csv')\n",
        "carv = pd.read_csv('/content/drive/MyDrive/uay cnn/car-ver.csv')\n",
        "bike=pd.read_csv('/content/drive/MyDrive/uay cnn/Bike.csv')\n",
        "human = pd.read_csv('/content/drive/MyDrive/uay cnn/Human.csv')\n"
      ],
      "execution_count": null,
      "outputs": []
    },
    {
      "cell_type": "code",
      "metadata": {
        "id": "H38-RCSy6yVg",
        "colab": {
          "base_uri": "https://localhost:8080/"
        },
        "outputId": "c9354e13-39ea-4a15-e156-786a0a74e1a2"
      },
      "source": [
        "carh.shape"
      ],
      "execution_count": null,
      "outputs": [
        {
          "output_type": "execute_result",
          "data": {
            "text/plain": [
              "(12923, 52)"
            ]
          },
          "metadata": {
            "tags": []
          },
          "execution_count": 3
        }
      ]
    },
    {
      "cell_type": "code",
      "metadata": {
        "id": "riN1Hbhd60dm",
        "colab": {
          "base_uri": "https://localhost:8080/"
        },
        "outputId": "157d55e4-aea2-4181-f1d6-a6fdfcf13cf8"
      },
      "source": [
        "carv.shape"
      ],
      "execution_count": null,
      "outputs": [
        {
          "output_type": "execute_result",
          "data": {
            "text/plain": [
              "(14348, 52)"
            ]
          },
          "metadata": {
            "tags": []
          },
          "execution_count": 4
        }
      ]
    },
    {
      "cell_type": "code",
      "metadata": {
        "id": "Ma8XDX74pRs9",
        "colab": {
          "base_uri": "https://localhost:8080/"
        },
        "outputId": "d3d2ea4f-6684-4104-be47-afb5bf945d2b"
      },
      "source": [
        "bike.shape"
      ],
      "execution_count": null,
      "outputs": [
        {
          "output_type": "execute_result",
          "data": {
            "text/plain": [
              "(11429, 52)"
            ]
          },
          "metadata": {
            "tags": []
          },
          "execution_count": 5
        }
      ]
    },
    {
      "cell_type": "code",
      "metadata": {
        "id": "BIj-NpWUsARV",
        "colab": {
          "base_uri": "https://localhost:8080/"
        },
        "outputId": "d6ad7658-de0c-4039-f8de-99183d5a5726"
      },
      "source": [
        "human.shape"
      ],
      "execution_count": null,
      "outputs": [
        {
          "output_type": "execute_result",
          "data": {
            "text/plain": [
              "(10917, 51)"
            ]
          },
          "metadata": {
            "tags": []
          },
          "execution_count": 6
        }
      ]
    },
    {
      "cell_type": "code",
      "metadata": {
        "id": "8Muyr-B6JFAC"
      },
      "source": [
        "dat = pd.concat([carh, carv,bike])\n",
        "dat = dat.drop(columns='File')"
      ],
      "execution_count": null,
      "outputs": []
    },
    {
      "cell_type": "code",
      "metadata": {
        "id": "TpTLEA2sl0Ea"
      },
      "source": [
        "dat = pd.concat([dat,human])"
      ],
      "execution_count": null,
      "outputs": []
    },
    {
      "cell_type": "code",
      "metadata": {
        "id": "jn-x_PiGNx3m"
      },
      "source": [
        "## Remaining Peak array 35 elements\n",
        "dat = dat.rename(columns = {'0' : \"PA1\", '1' : \"PA2\",  '2' : \"PA3\", '3': \"PA4\", '4' : \"PA5\", '5' : \"PA6\", '6' : \"PA7\", '7' : \"PA8\", '8' : \"PA9\", '9' : \"PA10\"})\n",
        "dat = dat.rename(columns = {'10':\"PA11\", '11': \"PA12\", '12': \"PA13\", '13': \"PA14\", '14': \"PA15\", '15': \"PA16\", '16': \"PA17\", '17': \"PA18\", '18': \"PA19\", '19': \"PA20\"})\n",
        "dat = dat.rename(columns ={'20': \"PA21\", '21': \"PA22\", '22': \"PA23\", '23': \"PA24\", '24': \"PA25\", '25': \"PA26\", '26': \"PA27\", '27': \"PA28\", '28': \"PA29\", '29': \"PA30\", '30': \"PA31\", '31': \"PA32\", '32': \"PA33\", '33': \"PA34\", '34':\"PA35\"})   "
      ],
      "execution_count": null,
      "outputs": []
    },
    {
      "cell_type": "code",
      "metadata": {
        "id": "Xs3Lvjd1Sw3A",
        "colab": {
          "base_uri": "https://localhost:8080/"
        },
        "outputId": "4d469323-3630-42a7-b57a-765ed6b30b7b"
      },
      "source": [
        "## check no.of classes \n",
        "classes = len(dat.ObjType.unique())\n",
        "print(classes)"
      ],
      "execution_count": null,
      "outputs": [
        {
          "output_type": "stream",
          "text": [
            "4\n"
          ],
          "name": "stdout"
        }
      ]
    },
    {
      "cell_type": "code",
      "metadata": {
        "id": "7tiNxwaPN-Pw",
        "colab": {
          "base_uri": "https://localhost:8080/",
          "height": 1000
        },
        "outputId": "35bcdeb0-94f4-468d-f986-033eb68c0101"
      },
      "source": [
        "dat"
      ],
      "execution_count": null,
      "outputs": [
        {
          "output_type": "execute_result",
          "data": {
            "text/html": [
              "<div>\n",
              "<style scoped>\n",
              "    .dataframe tbody tr th:only-of-type {\n",
              "        vertical-align: middle;\n",
              "    }\n",
              "\n",
              "    .dataframe tbody tr th {\n",
              "        vertical-align: top;\n",
              "    }\n",
              "\n",
              "    .dataframe thead th {\n",
              "        text-align: right;\n",
              "    }\n",
              "</style>\n",
              "<table border=\"1\" class=\"dataframe\">\n",
              "  <thead>\n",
              "    <tr style=\"text-align: right;\">\n",
              "      <th></th>\n",
              "      <th>PA1</th>\n",
              "      <th>PA2</th>\n",
              "      <th>PA3</th>\n",
              "      <th>PA4</th>\n",
              "      <th>PA5</th>\n",
              "      <th>PA6</th>\n",
              "      <th>PA7</th>\n",
              "      <th>PA8</th>\n",
              "      <th>PA9</th>\n",
              "      <th>PA10</th>\n",
              "      <th>PA11</th>\n",
              "      <th>PA12</th>\n",
              "      <th>PA13</th>\n",
              "      <th>PA14</th>\n",
              "      <th>PA15</th>\n",
              "      <th>PA16</th>\n",
              "      <th>PA17</th>\n",
              "      <th>PA18</th>\n",
              "      <th>PA19</th>\n",
              "      <th>PA20</th>\n",
              "      <th>PA21</th>\n",
              "      <th>PA22</th>\n",
              "      <th>PA23</th>\n",
              "      <th>PA24</th>\n",
              "      <th>PA25</th>\n",
              "      <th>PA26</th>\n",
              "      <th>PA27</th>\n",
              "      <th>PA28</th>\n",
              "      <th>PA29</th>\n",
              "      <th>PA30</th>\n",
              "      <th>PA31</th>\n",
              "      <th>PA32</th>\n",
              "      <th>PA33</th>\n",
              "      <th>PA34</th>\n",
              "      <th>PA35</th>\n",
              "      <th>Range</th>\n",
              "      <th>dpplIdx</th>\n",
              "      <th>rangeIdx</th>\n",
              "      <th>pkArray</th>\n",
              "      <th>Coordinates.X</th>\n",
              "      <th>Coordinates.Y</th>\n",
              "      <th>pkValue1.Real</th>\n",
              "      <th>pkValue1.Imaginary</th>\n",
              "      <th>pkValue2.Real</th>\n",
              "      <th>pkValue2.Imaginary</th>\n",
              "      <th>pkValue3.Real</th>\n",
              "      <th>pkValue3.Imaginary</th>\n",
              "      <th>pkValue4.Real</th>\n",
              "      <th>pkValue4.Imaginary</th>\n",
              "      <th>ObjType</th>\n",
              "      <th>Frame</th>\n",
              "    </tr>\n",
              "  </thead>\n",
              "  <tbody>\n",
              "    <tr>\n",
              "      <th>0</th>\n",
              "      <td>0.000000</td>\n",
              "      <td>0.000000</td>\n",
              "      <td>2521.468750</td>\n",
              "      <td>1290.304200</td>\n",
              "      <td>14.212670</td>\n",
              "      <td>0.000000</td>\n",
              "      <td>0.000000</td>\n",
              "      <td>2568.565670</td>\n",
              "      <td>1318.491580</td>\n",
              "      <td>15.297058</td>\n",
              "      <td>0.000000</td>\n",
              "      <td>0.000000</td>\n",
              "      <td>6619.216000</td>\n",
              "      <td>3403.782000</td>\n",
              "      <td>40.521600</td>\n",
              "      <td>0.000000</td>\n",
              "      <td>0.000000</td>\n",
              "      <td>6648.703000</td>\n",
              "      <td>3419.212000</td>\n",
              "      <td>41.880783</td>\n",
              "      <td>0.000000</td>\n",
              "      <td>0.000000</td>\n",
              "      <td>3290.255370</td>\n",
              "      <td>1690.933720</td>\n",
              "      <td>20.000000</td>\n",
              "      <td>0.000000</td>\n",
              "      <td>0.000000</td>\n",
              "      <td>2666.602780</td>\n",
              "      <td>1367.954710</td>\n",
              "      <td>12.206555</td>\n",
              "      <td>0.000000</td>\n",
              "      <td>0.000000</td>\n",
              "      <td>3291.649000</td>\n",
              "      <td>1687.111080</td>\n",
              "      <td>16.155495</td>\n",
              "      <td>1.476562</td>\n",
              "      <td>0</td>\n",
              "      <td>3</td>\n",
              "      <td>[[0.0, 2568.56567, 40.5216, 0.0, 1367.95471], ...</td>\n",
              "      <td>0.046867</td>\n",
              "      <td>1.475819</td>\n",
              "      <td>-2497.0</td>\n",
              "      <td>6162.0</td>\n",
              "      <td>1292.0</td>\n",
              "      <td>7334.0</td>\n",
              "      <td>-1342.0</td>\n",
              "      <td>6197.0</td>\n",
              "      <td>-3799.0</td>\n",
              "      <td>5343.0</td>\n",
              "      <td>Car H</td>\n",
              "      <td>0</td>\n",
              "    </tr>\n",
              "    <tr>\n",
              "      <th>1</th>\n",
              "      <td>0.000000</td>\n",
              "      <td>0.000000</td>\n",
              "      <td>2493.030270</td>\n",
              "      <td>1275.379520</td>\n",
              "      <td>14.212670</td>\n",
              "      <td>0.000000</td>\n",
              "      <td>0.000000</td>\n",
              "      <td>2495.661130</td>\n",
              "      <td>1279.225100</td>\n",
              "      <td>14.000000</td>\n",
              "      <td>0.000000</td>\n",
              "      <td>0.000000</td>\n",
              "      <td>6658.422360</td>\n",
              "      <td>3420.900150</td>\n",
              "      <td>39.000000</td>\n",
              "      <td>0.000000</td>\n",
              "      <td>0.000000</td>\n",
              "      <td>6627.842000</td>\n",
              "      <td>3404.839600</td>\n",
              "      <td>37.363083</td>\n",
              "      <td>0.000000</td>\n",
              "      <td>0.000000</td>\n",
              "      <td>3244.413820</td>\n",
              "      <td>1666.784000</td>\n",
              "      <td>17.720045</td>\n",
              "      <td>0.000000</td>\n",
              "      <td>0.000000</td>\n",
              "      <td>2427.088130</td>\n",
              "      <td>1248.493530</td>\n",
              "      <td>11.313708</td>\n",
              "      <td>0.000000</td>\n",
              "      <td>0.000000</td>\n",
              "      <td>3158.696000</td>\n",
              "      <td>1625.601440</td>\n",
              "      <td>17.029386</td>\n",
              "      <td>1.476562</td>\n",
              "      <td>0</td>\n",
              "      <td>3</td>\n",
              "      <td>[[0.0, 2495.66113, 39.0, 0.0, 1248.49353], [0....</td>\n",
              "      <td>0.046867</td>\n",
              "      <td>1.475819</td>\n",
              "      <td>-1335.0</td>\n",
              "      <td>6492.0</td>\n",
              "      <td>2260.0</td>\n",
              "      <td>7149.0</td>\n",
              "      <td>-468.0</td>\n",
              "      <td>6385.0</td>\n",
              "      <td>-2597.0</td>\n",
              "      <td>5538.0</td>\n",
              "      <td>Car H</td>\n",
              "      <td>1</td>\n",
              "    </tr>\n",
              "    <tr>\n",
              "      <th>2</th>\n",
              "      <td>0.000000</td>\n",
              "      <td>0.000000</td>\n",
              "      <td>2517.604740</td>\n",
              "      <td>1287.509640</td>\n",
              "      <td>12.806249</td>\n",
              "      <td>0.000000</td>\n",
              "      <td>0.000000</td>\n",
              "      <td>2541.732180</td>\n",
              "      <td>1300.548000</td>\n",
              "      <td>14.035668</td>\n",
              "      <td>0.000000</td>\n",
              "      <td>0.000000</td>\n",
              "      <td>6620.785640</td>\n",
              "      <td>3393.600590</td>\n",
              "      <td>37.483330</td>\n",
              "      <td>0.000000</td>\n",
              "      <td>0.000000</td>\n",
              "      <td>6598.760740</td>\n",
              "      <td>3382.037840</td>\n",
              "      <td>36.715120</td>\n",
              "      <td>0.000000</td>\n",
              "      <td>0.000000</td>\n",
              "      <td>3260.569340</td>\n",
              "      <td>1671.412600</td>\n",
              "      <td>19.849434</td>\n",
              "      <td>0.000000</td>\n",
              "      <td>0.000000</td>\n",
              "      <td>2705.383000</td>\n",
              "      <td>1388.226200</td>\n",
              "      <td>19.646883</td>\n",
              "      <td>0.000000</td>\n",
              "      <td>0.000000</td>\n",
              "      <td>3541.702000</td>\n",
              "      <td>1814.907710</td>\n",
              "      <td>25.709920</td>\n",
              "      <td>1.476562</td>\n",
              "      <td>0</td>\n",
              "      <td>3</td>\n",
              "      <td>[[0.0, 2541.73218, 37.48333, 0.0, 1388.2262], ...</td>\n",
              "      <td>0.046867</td>\n",
              "      <td>1.475819</td>\n",
              "      <td>-2066.0</td>\n",
              "      <td>6267.0</td>\n",
              "      <td>1705.0</td>\n",
              "      <td>7287.0</td>\n",
              "      <td>-1022.0</td>\n",
              "      <td>6234.0</td>\n",
              "      <td>-3394.0</td>\n",
              "      <td>5526.0</td>\n",
              "      <td>Car H</td>\n",
              "      <td>2</td>\n",
              "    </tr>\n",
              "    <tr>\n",
              "      <th>3</th>\n",
              "      <td>0.000000</td>\n",
              "      <td>0.000000</td>\n",
              "      <td>2499.066160</td>\n",
              "      <td>1277.950320</td>\n",
              "      <td>13.453624</td>\n",
              "      <td>0.000000</td>\n",
              "      <td>0.000000</td>\n",
              "      <td>2493.035400</td>\n",
              "      <td>1281.656000</td>\n",
              "      <td>14.035668</td>\n",
              "      <td>0.000000</td>\n",
              "      <td>0.000000</td>\n",
              "      <td>6687.944000</td>\n",
              "      <td>3445.050000</td>\n",
              "      <td>40.049970</td>\n",
              "      <td>0.000000</td>\n",
              "      <td>0.000000</td>\n",
              "      <td>6673.404300</td>\n",
              "      <td>3439.495610</td>\n",
              "      <td>39.849716</td>\n",
              "      <td>0.000000</td>\n",
              "      <td>0.000000</td>\n",
              "      <td>3277.387000</td>\n",
              "      <td>1688.820310</td>\n",
              "      <td>20.248457</td>\n",
              "      <td>0.000000</td>\n",
              "      <td>0.000000</td>\n",
              "      <td>2513.470210</td>\n",
              "      <td>1293.847410</td>\n",
              "      <td>17.464249</td>\n",
              "      <td>0.000000</td>\n",
              "      <td>0.000000</td>\n",
              "      <td>3460.129150</td>\n",
              "      <td>1781.833860</td>\n",
              "      <td>26.476404</td>\n",
              "      <td>1.476562</td>\n",
              "      <td>0</td>\n",
              "      <td>3</td>\n",
              "      <td>[[0.0, 2493.0354, 40.04997, 0.0, 1293.84741], ...</td>\n",
              "      <td>0.046867</td>\n",
              "      <td>1.475819</td>\n",
              "      <td>-1241.0</td>\n",
              "      <td>6557.0</td>\n",
              "      <td>2410.0</td>\n",
              "      <td>7115.0</td>\n",
              "      <td>-379.0</td>\n",
              "      <td>6372.0</td>\n",
              "      <td>-2517.0</td>\n",
              "      <td>5585.0</td>\n",
              "      <td>Car H</td>\n",
              "      <td>3</td>\n",
              "    </tr>\n",
              "    <tr>\n",
              "      <th>4</th>\n",
              "      <td>0.000000</td>\n",
              "      <td>0.000000</td>\n",
              "      <td>2518.223630</td>\n",
              "      <td>1288.758300</td>\n",
              "      <td>15.000000</td>\n",
              "      <td>0.000000</td>\n",
              "      <td>0.000000</td>\n",
              "      <td>2539.123000</td>\n",
              "      <td>1298.345090</td>\n",
              "      <td>14.560220</td>\n",
              "      <td>0.000000</td>\n",
              "      <td>0.000000</td>\n",
              "      <td>6628.006000</td>\n",
              "      <td>3390.675540</td>\n",
              "      <td>33.955852</td>\n",
              "      <td>0.000000</td>\n",
              "      <td>0.000000</td>\n",
              "      <td>6601.803710</td>\n",
              "      <td>3374.415770</td>\n",
              "      <td>30.016663</td>\n",
              "      <td>0.000000</td>\n",
              "      <td>0.000000</td>\n",
              "      <td>3240.743650</td>\n",
              "      <td>1653.173000</td>\n",
              "      <td>10.000000</td>\n",
              "      <td>0.000000</td>\n",
              "      <td>0.000000</td>\n",
              "      <td>2630.389400</td>\n",
              "      <td>1343.505860</td>\n",
              "      <td>10.198039</td>\n",
              "      <td>0.000000</td>\n",
              "      <td>0.000000</td>\n",
              "      <td>3525.310790</td>\n",
              "      <td>1800.873410</td>\n",
              "      <td>20.880613</td>\n",
              "      <td>1.476562</td>\n",
              "      <td>0</td>\n",
              "      <td>3</td>\n",
              "      <td>[[0.0, 2539.123, 33.9558525, 0.0, 1343.50586],...</td>\n",
              "      <td>0.046867</td>\n",
              "      <td>1.475819</td>\n",
              "      <td>-1986.0</td>\n",
              "      <td>6296.0</td>\n",
              "      <td>1791.0</td>\n",
              "      <td>7285.0</td>\n",
              "      <td>-926.0</td>\n",
              "      <td>6270.0</td>\n",
              "      <td>-3283.0</td>\n",
              "      <td>5506.0</td>\n",
              "      <td>Car H</td>\n",
              "      <td>4</td>\n",
              "    </tr>\n",
              "    <tr>\n",
              "      <th>...</th>\n",
              "      <td>...</td>\n",
              "      <td>...</td>\n",
              "      <td>...</td>\n",
              "      <td>...</td>\n",
              "      <td>...</td>\n",
              "      <td>...</td>\n",
              "      <td>...</td>\n",
              "      <td>...</td>\n",
              "      <td>...</td>\n",
              "      <td>...</td>\n",
              "      <td>...</td>\n",
              "      <td>...</td>\n",
              "      <td>...</td>\n",
              "      <td>...</td>\n",
              "      <td>...</td>\n",
              "      <td>...</td>\n",
              "      <td>...</td>\n",
              "      <td>...</td>\n",
              "      <td>...</td>\n",
              "      <td>...</td>\n",
              "      <td>...</td>\n",
              "      <td>...</td>\n",
              "      <td>...</td>\n",
              "      <td>...</td>\n",
              "      <td>...</td>\n",
              "      <td>...</td>\n",
              "      <td>...</td>\n",
              "      <td>...</td>\n",
              "      <td>...</td>\n",
              "      <td>...</td>\n",
              "      <td>...</td>\n",
              "      <td>...</td>\n",
              "      <td>...</td>\n",
              "      <td>...</td>\n",
              "      <td>...</td>\n",
              "      <td>...</td>\n",
              "      <td>...</td>\n",
              "      <td>...</td>\n",
              "      <td>...</td>\n",
              "      <td>...</td>\n",
              "      <td>...</td>\n",
              "      <td>...</td>\n",
              "      <td>...</td>\n",
              "      <td>...</td>\n",
              "      <td>...</td>\n",
              "      <td>...</td>\n",
              "      <td>...</td>\n",
              "      <td>...</td>\n",
              "      <td>...</td>\n",
              "      <td>...</td>\n",
              "      <td>...</td>\n",
              "    </tr>\n",
              "    <tr>\n",
              "      <th>10912</th>\n",
              "      <td>6.000000</td>\n",
              "      <td>3.162278</td>\n",
              "      <td>4.123106</td>\n",
              "      <td>277.074000</td>\n",
              "      <td>0.000000</td>\n",
              "      <td>7.000000</td>\n",
              "      <td>2.828427</td>\n",
              "      <td>21.931713</td>\n",
              "      <td>165.873444</td>\n",
              "      <td>0.000000</td>\n",
              "      <td>9.848858</td>\n",
              "      <td>44.777226</td>\n",
              "      <td>278.115082</td>\n",
              "      <td>369.362976</td>\n",
              "      <td>0.000000</td>\n",
              "      <td>22.203604</td>\n",
              "      <td>119.603508</td>\n",
              "      <td>704.979431</td>\n",
              "      <td>1073.778320</td>\n",
              "      <td>0.000000</td>\n",
              "      <td>25.553865</td>\n",
              "      <td>124.807854</td>\n",
              "      <td>711.152600</td>\n",
              "      <td>991.286560</td>\n",
              "      <td>0.000000</td>\n",
              "      <td>16.124516</td>\n",
              "      <td>52.810986</td>\n",
              "      <td>296.285339</td>\n",
              "      <td>512.181600</td>\n",
              "      <td>0.000000</td>\n",
              "      <td>8.246211</td>\n",
              "      <td>9.000000</td>\n",
              "      <td>45.541190</td>\n",
              "      <td>358.959600</td>\n",
              "      <td>0.000000</td>\n",
              "      <td>4.921875</td>\n",
              "      <td>62</td>\n",
              "      <td>10</td>\n",
              "      <td>[[6.0, 21.9317131, 0.0, 124.807854, 512.1816],...</td>\n",
              "      <td>0.000000</td>\n",
              "      <td>4.921875</td>\n",
              "      <td>-186.0</td>\n",
              "      <td>680.0</td>\n",
              "      <td>79.0</td>\n",
              "      <td>601.0</td>\n",
              "      <td>-42.0</td>\n",
              "      <td>556.0</td>\n",
              "      <td>14.0</td>\n",
              "      <td>673.0</td>\n",
              "      <td>human</td>\n",
              "      <td>993</td>\n",
              "    </tr>\n",
              "    <tr>\n",
              "      <th>10913</th>\n",
              "      <td>1.414214</td>\n",
              "      <td>3.605551</td>\n",
              "      <td>6.324555</td>\n",
              "      <td>9.055386</td>\n",
              "      <td>275.771637</td>\n",
              "      <td>1.000000</td>\n",
              "      <td>4.472136</td>\n",
              "      <td>34.481880</td>\n",
              "      <td>7.810250</td>\n",
              "      <td>117.239075</td>\n",
              "      <td>7.071068</td>\n",
              "      <td>26.019224</td>\n",
              "      <td>238.096619</td>\n",
              "      <td>61.073727</td>\n",
              "      <td>407.276300</td>\n",
              "      <td>25.553865</td>\n",
              "      <td>27.202942</td>\n",
              "      <td>434.549200</td>\n",
              "      <td>248.600082</td>\n",
              "      <td>870.091900</td>\n",
              "      <td>36.359318</td>\n",
              "      <td>35.057095</td>\n",
              "      <td>318.402252</td>\n",
              "      <td>309.025879</td>\n",
              "      <td>674.638400</td>\n",
              "      <td>23.194826</td>\n",
              "      <td>39.812058</td>\n",
              "      <td>88.119240</td>\n",
              "      <td>140.206985</td>\n",
              "      <td>399.011300</td>\n",
              "      <td>6.000000</td>\n",
              "      <td>13.601471</td>\n",
              "      <td>4.472136</td>\n",
              "      <td>9.219544</td>\n",
              "      <td>342.112549</td>\n",
              "      <td>4.921875</td>\n",
              "      <td>61</td>\n",
              "      <td>10</td>\n",
              "      <td>[[1.41421354, 34.48188, 407.2763, 35.0570946, ...</td>\n",
              "      <td>0.000000</td>\n",
              "      <td>4.921875</td>\n",
              "      <td>47.0</td>\n",
              "      <td>432.0</td>\n",
              "      <td>181.0</td>\n",
              "      <td>360.0</td>\n",
              "      <td>129.0</td>\n",
              "      <td>359.0</td>\n",
              "      <td>243.0</td>\n",
              "      <td>522.0</td>\n",
              "      <td>human</td>\n",
              "      <td>994</td>\n",
              "    </tr>\n",
              "    <tr>\n",
              "      <th>10914</th>\n",
              "      <td>4.123106</td>\n",
              "      <td>5.000000</td>\n",
              "      <td>4.472136</td>\n",
              "      <td>187.096237</td>\n",
              "      <td>0.000000</td>\n",
              "      <td>5.656854</td>\n",
              "      <td>37.215588</td>\n",
              "      <td>27.166155</td>\n",
              "      <td>120.768372</td>\n",
              "      <td>0.000000</td>\n",
              "      <td>43.737854</td>\n",
              "      <td>114.756264</td>\n",
              "      <td>138.740768</td>\n",
              "      <td>478.117126</td>\n",
              "      <td>0.000000</td>\n",
              "      <td>108.231232</td>\n",
              "      <td>127.612694</td>\n",
              "      <td>264.969818</td>\n",
              "      <td>881.767500</td>\n",
              "      <td>0.000000</td>\n",
              "      <td>102.927162</td>\n",
              "      <td>62.361847</td>\n",
              "      <td>211.624664</td>\n",
              "      <td>549.015500</td>\n",
              "      <td>0.000000</td>\n",
              "      <td>39.924930</td>\n",
              "      <td>17.492855</td>\n",
              "      <td>65.007690</td>\n",
              "      <td>211.101868</td>\n",
              "      <td>0.000000</td>\n",
              "      <td>10.000000</td>\n",
              "      <td>9.219544</td>\n",
              "      <td>10.440307</td>\n",
              "      <td>216.748700</td>\n",
              "      <td>0.000000</td>\n",
              "      <td>4.921875</td>\n",
              "      <td>62</td>\n",
              "      <td>10</td>\n",
              "      <td>[[4.12310553, 27.1661549, 0.0, 62.3618469, 211...</td>\n",
              "      <td>-0.312290</td>\n",
              "      <td>4.911958</td>\n",
              "      <td>72.0</td>\n",
              "      <td>255.0</td>\n",
              "      <td>170.0</td>\n",
              "      <td>82.0</td>\n",
              "      <td>152.0</td>\n",
              "      <td>91.0</td>\n",
              "      <td>170.0</td>\n",
              "      <td>71.0</td>\n",
              "      <td>human</td>\n",
              "      <td>995</td>\n",
              "    </tr>\n",
              "    <tr>\n",
              "      <th>10915</th>\n",
              "      <td>3.162278</td>\n",
              "      <td>5.000000</td>\n",
              "      <td>8.944272</td>\n",
              "      <td>131.244049</td>\n",
              "      <td>0.000000</td>\n",
              "      <td>31.016125</td>\n",
              "      <td>44.944410</td>\n",
              "      <td>147.299011</td>\n",
              "      <td>164.541800</td>\n",
              "      <td>0.000000</td>\n",
              "      <td>74.525160</td>\n",
              "      <td>107.703293</td>\n",
              "      <td>410.561800</td>\n",
              "      <td>650.668900</td>\n",
              "      <td>0.000000</td>\n",
              "      <td>73.409805</td>\n",
              "      <td>104.292854</td>\n",
              "      <td>454.156372</td>\n",
              "      <td>873.459800</td>\n",
              "      <td>0.000000</td>\n",
              "      <td>27.459060</td>\n",
              "      <td>42.720020</td>\n",
              "      <td>207.099014</td>\n",
              "      <td>396.203217</td>\n",
              "      <td>0.000000</td>\n",
              "      <td>3.605551</td>\n",
              "      <td>16.763054</td>\n",
              "      <td>26.925823</td>\n",
              "      <td>205.156036</td>\n",
              "      <td>0.000000</td>\n",
              "      <td>5.099020</td>\n",
              "      <td>18.027756</td>\n",
              "      <td>11.180340</td>\n",
              "      <td>193.196800</td>\n",
              "      <td>0.000000</td>\n",
              "      <td>4.921875</td>\n",
              "      <td>62</td>\n",
              "      <td>10</td>\n",
              "      <td>[[3.1622777, 147.299011, 0.0, 42.72002, 205.15...</td>\n",
              "      <td>0.000000</td>\n",
              "      <td>4.921875</td>\n",
              "      <td>137.0</td>\n",
              "      <td>433.0</td>\n",
              "      <td>236.0</td>\n",
              "      <td>321.0</td>\n",
              "      <td>172.0</td>\n",
              "      <td>302.0</td>\n",
              "      <td>219.0</td>\n",
              "      <td>342.0</td>\n",
              "      <td>human</td>\n",
              "      <td>996</td>\n",
              "    </tr>\n",
              "    <tr>\n",
              "      <th>10916</th>\n",
              "      <td>8.062258</td>\n",
              "      <td>6.324555</td>\n",
              "      <td>7.071068</td>\n",
              "      <td>72.367120</td>\n",
              "      <td>0.000000</td>\n",
              "      <td>7.071068</td>\n",
              "      <td>8.062258</td>\n",
              "      <td>28.000000</td>\n",
              "      <td>222.800354</td>\n",
              "      <td>0.000000</td>\n",
              "      <td>3.000000</td>\n",
              "      <td>29.068884</td>\n",
              "      <td>175.513535</td>\n",
              "      <td>316.180328</td>\n",
              "      <td>0.000000</td>\n",
              "      <td>9.433981</td>\n",
              "      <td>51.865210</td>\n",
              "      <td>363.551900</td>\n",
              "      <td>457.219849</td>\n",
              "      <td>0.000000</td>\n",
              "      <td>9.486833</td>\n",
              "      <td>38.948685</td>\n",
              "      <td>308.235300</td>\n",
              "      <td>289.110718</td>\n",
              "      <td>0.000000</td>\n",
              "      <td>7.071068</td>\n",
              "      <td>11.401754</td>\n",
              "      <td>104.086500</td>\n",
              "      <td>179.655228</td>\n",
              "      <td>0.000000</td>\n",
              "      <td>9.219544</td>\n",
              "      <td>8.062258</td>\n",
              "      <td>16.970562</td>\n",
              "      <td>225.248749</td>\n",
              "      <td>0.000000</td>\n",
              "      <td>4.429688</td>\n",
              "      <td>62</td>\n",
              "      <td>9</td>\n",
              "      <td>[[8.062258, 28.0, 0.0, 38.9486847, 179.655228]...</td>\n",
              "      <td>0.000000</td>\n",
              "      <td>4.429688</td>\n",
              "      <td>251.0</td>\n",
              "      <td>263.0</td>\n",
              "      <td>277.0</td>\n",
              "      <td>88.0</td>\n",
              "      <td>283.0</td>\n",
              "      <td>143.0</td>\n",
              "      <td>405.0</td>\n",
              "      <td>155.0</td>\n",
              "      <td>human</td>\n",
              "      <td>997</td>\n",
              "    </tr>\n",
              "  </tbody>\n",
              "</table>\n",
              "<p>49617 rows × 51 columns</p>\n",
              "</div>"
            ],
            "text/plain": [
              "            PA1       PA2          PA3  ...  pkValue4.Imaginary  ObjType  Frame\n",
              "0      0.000000  0.000000  2521.468750  ...              5343.0    Car H      0\n",
              "1      0.000000  0.000000  2493.030270  ...              5538.0    Car H      1\n",
              "2      0.000000  0.000000  2517.604740  ...              5526.0    Car H      2\n",
              "3      0.000000  0.000000  2499.066160  ...              5585.0    Car H      3\n",
              "4      0.000000  0.000000  2518.223630  ...              5506.0    Car H      4\n",
              "...         ...       ...          ...  ...                 ...      ...    ...\n",
              "10912  6.000000  3.162278     4.123106  ...               673.0    human    993\n",
              "10913  1.414214  3.605551     6.324555  ...               522.0    human    994\n",
              "10914  4.123106  5.000000     4.472136  ...                71.0    human    995\n",
              "10915  3.162278  5.000000     8.944272  ...               342.0    human    996\n",
              "10916  8.062258  6.324555     7.071068  ...               155.0    human    997\n",
              "\n",
              "[49617 rows x 51 columns]"
            ]
          },
          "metadata": {
            "tags": []
          },
          "execution_count": 11
        }
      ]
    },
    {
      "cell_type": "code",
      "metadata": {
        "id": "ssl3E272JFPI"
      },
      "source": [
        "ObjType = {'Car H': 0, 'Car V': 1, 'Bike' :2, 'human':3}\n",
        "dat.ObjType = [ObjType[item] for item in dat.ObjType]\n",
        "\n",
        "num_classes = 4\n",
        "## input shape ###\n",
        "randx, doidx = 7, 5\n",
        "input_shape = (doidx, randx, 1)"
      ],
      "execution_count": null,
      "outputs": []
    },
    {
      "cell_type": "code",
      "metadata": {
        "id": "H7RwM_3_JFTP"
      },
      "source": [
        "features  = ['PA1',\t'PA2',\t'PA3',\t'PA4',\t'PA5',\t'PA6',\t'PA7',\t'PA8',\t'PA9',\t'PA10',\t'PA11',\t'PA12',\t'PA13',\t'PA14',\t'PA15',\t'PA16',\t'PA17',\t'PA18',\t'PA19',\t'PA20',\t'PA21',\t'PA22',\t'PA23',\t'PA24',\t'PA25',\t'PA26',\t'PA27',\t'PA28',\t'PA29',\t'PA30',\t'PA31',\t'PA32',\t'PA33',\t'PA34',\t'PA35']\n",
        "\n",
        "x = dat[features]\n",
        "y = dat['ObjType']\n",
        "x1 = x.values\n"
      ],
      "execution_count": null,
      "outputs": []
    },
    {
      "cell_type": "code",
      "metadata": {
        "id": "O4SoYCJ_O_VX"
      },
      "source": [
        "x1  =  x1.reshape(x1.shape[0], doidx, randx, 1)"
      ],
      "execution_count": null,
      "outputs": []
    },
    {
      "cell_type": "code",
      "metadata": {
        "id": "rwx3piGiO9y9",
        "colab": {
          "base_uri": "https://localhost:8080/"
        },
        "outputId": "0069b922-a921-4899-b7f3-b6e32d252c27"
      },
      "source": [
        "x.shape"
      ],
      "execution_count": null,
      "outputs": [
        {
          "output_type": "execute_result",
          "data": {
            "text/plain": [
              "(49617, 35)"
            ]
          },
          "metadata": {
            "tags": []
          },
          "execution_count": 15
        }
      ]
    },
    {
      "cell_type": "code",
      "metadata": {
        "id": "oqE9DPPHqp1q",
        "colab": {
          "base_uri": "https://localhost:8080/",
          "height": 439
        },
        "outputId": "2bd0d3d1-716c-445c-d3f6-2d17bd29e30c"
      },
      "source": [
        "x"
      ],
      "execution_count": null,
      "outputs": [
        {
          "output_type": "execute_result",
          "data": {
            "text/html": [
              "<div>\n",
              "<style scoped>\n",
              "    .dataframe tbody tr th:only-of-type {\n",
              "        vertical-align: middle;\n",
              "    }\n",
              "\n",
              "    .dataframe tbody tr th {\n",
              "        vertical-align: top;\n",
              "    }\n",
              "\n",
              "    .dataframe thead th {\n",
              "        text-align: right;\n",
              "    }\n",
              "</style>\n",
              "<table border=\"1\" class=\"dataframe\">\n",
              "  <thead>\n",
              "    <tr style=\"text-align: right;\">\n",
              "      <th></th>\n",
              "      <th>PA1</th>\n",
              "      <th>PA2</th>\n",
              "      <th>PA3</th>\n",
              "      <th>PA4</th>\n",
              "      <th>PA5</th>\n",
              "      <th>PA6</th>\n",
              "      <th>PA7</th>\n",
              "      <th>PA8</th>\n",
              "      <th>PA9</th>\n",
              "      <th>PA10</th>\n",
              "      <th>PA11</th>\n",
              "      <th>PA12</th>\n",
              "      <th>PA13</th>\n",
              "      <th>PA14</th>\n",
              "      <th>PA15</th>\n",
              "      <th>PA16</th>\n",
              "      <th>PA17</th>\n",
              "      <th>PA18</th>\n",
              "      <th>PA19</th>\n",
              "      <th>PA20</th>\n",
              "      <th>PA21</th>\n",
              "      <th>PA22</th>\n",
              "      <th>PA23</th>\n",
              "      <th>PA24</th>\n",
              "      <th>PA25</th>\n",
              "      <th>PA26</th>\n",
              "      <th>PA27</th>\n",
              "      <th>PA28</th>\n",
              "      <th>PA29</th>\n",
              "      <th>PA30</th>\n",
              "      <th>PA31</th>\n",
              "      <th>PA32</th>\n",
              "      <th>PA33</th>\n",
              "      <th>PA34</th>\n",
              "      <th>PA35</th>\n",
              "    </tr>\n",
              "  </thead>\n",
              "  <tbody>\n",
              "    <tr>\n",
              "      <th>0</th>\n",
              "      <td>0.000000</td>\n",
              "      <td>0.000000</td>\n",
              "      <td>2521.468750</td>\n",
              "      <td>1290.304200</td>\n",
              "      <td>14.212670</td>\n",
              "      <td>0.000000</td>\n",
              "      <td>0.000000</td>\n",
              "      <td>2568.565670</td>\n",
              "      <td>1318.491580</td>\n",
              "      <td>15.297058</td>\n",
              "      <td>0.000000</td>\n",
              "      <td>0.000000</td>\n",
              "      <td>6619.216000</td>\n",
              "      <td>3403.782000</td>\n",
              "      <td>40.521600</td>\n",
              "      <td>0.000000</td>\n",
              "      <td>0.000000</td>\n",
              "      <td>6648.703000</td>\n",
              "      <td>3419.212000</td>\n",
              "      <td>41.880783</td>\n",
              "      <td>0.000000</td>\n",
              "      <td>0.000000</td>\n",
              "      <td>3290.255370</td>\n",
              "      <td>1690.933720</td>\n",
              "      <td>20.000000</td>\n",
              "      <td>0.000000</td>\n",
              "      <td>0.000000</td>\n",
              "      <td>2666.602780</td>\n",
              "      <td>1367.954710</td>\n",
              "      <td>12.206555</td>\n",
              "      <td>0.000000</td>\n",
              "      <td>0.000000</td>\n",
              "      <td>3291.649000</td>\n",
              "      <td>1687.111080</td>\n",
              "      <td>16.155495</td>\n",
              "    </tr>\n",
              "    <tr>\n",
              "      <th>1</th>\n",
              "      <td>0.000000</td>\n",
              "      <td>0.000000</td>\n",
              "      <td>2493.030270</td>\n",
              "      <td>1275.379520</td>\n",
              "      <td>14.212670</td>\n",
              "      <td>0.000000</td>\n",
              "      <td>0.000000</td>\n",
              "      <td>2495.661130</td>\n",
              "      <td>1279.225100</td>\n",
              "      <td>14.000000</td>\n",
              "      <td>0.000000</td>\n",
              "      <td>0.000000</td>\n",
              "      <td>6658.422360</td>\n",
              "      <td>3420.900150</td>\n",
              "      <td>39.000000</td>\n",
              "      <td>0.000000</td>\n",
              "      <td>0.000000</td>\n",
              "      <td>6627.842000</td>\n",
              "      <td>3404.839600</td>\n",
              "      <td>37.363083</td>\n",
              "      <td>0.000000</td>\n",
              "      <td>0.000000</td>\n",
              "      <td>3244.413820</td>\n",
              "      <td>1666.784000</td>\n",
              "      <td>17.720045</td>\n",
              "      <td>0.000000</td>\n",
              "      <td>0.000000</td>\n",
              "      <td>2427.088130</td>\n",
              "      <td>1248.493530</td>\n",
              "      <td>11.313708</td>\n",
              "      <td>0.000000</td>\n",
              "      <td>0.000000</td>\n",
              "      <td>3158.696000</td>\n",
              "      <td>1625.601440</td>\n",
              "      <td>17.029386</td>\n",
              "    </tr>\n",
              "    <tr>\n",
              "      <th>2</th>\n",
              "      <td>0.000000</td>\n",
              "      <td>0.000000</td>\n",
              "      <td>2517.604740</td>\n",
              "      <td>1287.509640</td>\n",
              "      <td>12.806249</td>\n",
              "      <td>0.000000</td>\n",
              "      <td>0.000000</td>\n",
              "      <td>2541.732180</td>\n",
              "      <td>1300.548000</td>\n",
              "      <td>14.035668</td>\n",
              "      <td>0.000000</td>\n",
              "      <td>0.000000</td>\n",
              "      <td>6620.785640</td>\n",
              "      <td>3393.600590</td>\n",
              "      <td>37.483330</td>\n",
              "      <td>0.000000</td>\n",
              "      <td>0.000000</td>\n",
              "      <td>6598.760740</td>\n",
              "      <td>3382.037840</td>\n",
              "      <td>36.715120</td>\n",
              "      <td>0.000000</td>\n",
              "      <td>0.000000</td>\n",
              "      <td>3260.569340</td>\n",
              "      <td>1671.412600</td>\n",
              "      <td>19.849434</td>\n",
              "      <td>0.000000</td>\n",
              "      <td>0.000000</td>\n",
              "      <td>2705.383000</td>\n",
              "      <td>1388.226200</td>\n",
              "      <td>19.646883</td>\n",
              "      <td>0.000000</td>\n",
              "      <td>0.000000</td>\n",
              "      <td>3541.702000</td>\n",
              "      <td>1814.907710</td>\n",
              "      <td>25.709920</td>\n",
              "    </tr>\n",
              "    <tr>\n",
              "      <th>3</th>\n",
              "      <td>0.000000</td>\n",
              "      <td>0.000000</td>\n",
              "      <td>2499.066160</td>\n",
              "      <td>1277.950320</td>\n",
              "      <td>13.453624</td>\n",
              "      <td>0.000000</td>\n",
              "      <td>0.000000</td>\n",
              "      <td>2493.035400</td>\n",
              "      <td>1281.656000</td>\n",
              "      <td>14.035668</td>\n",
              "      <td>0.000000</td>\n",
              "      <td>0.000000</td>\n",
              "      <td>6687.944000</td>\n",
              "      <td>3445.050000</td>\n",
              "      <td>40.049970</td>\n",
              "      <td>0.000000</td>\n",
              "      <td>0.000000</td>\n",
              "      <td>6673.404300</td>\n",
              "      <td>3439.495610</td>\n",
              "      <td>39.849716</td>\n",
              "      <td>0.000000</td>\n",
              "      <td>0.000000</td>\n",
              "      <td>3277.387000</td>\n",
              "      <td>1688.820310</td>\n",
              "      <td>20.248457</td>\n",
              "      <td>0.000000</td>\n",
              "      <td>0.000000</td>\n",
              "      <td>2513.470210</td>\n",
              "      <td>1293.847410</td>\n",
              "      <td>17.464249</td>\n",
              "      <td>0.000000</td>\n",
              "      <td>0.000000</td>\n",
              "      <td>3460.129150</td>\n",
              "      <td>1781.833860</td>\n",
              "      <td>26.476404</td>\n",
              "    </tr>\n",
              "    <tr>\n",
              "      <th>4</th>\n",
              "      <td>0.000000</td>\n",
              "      <td>0.000000</td>\n",
              "      <td>2518.223630</td>\n",
              "      <td>1288.758300</td>\n",
              "      <td>15.000000</td>\n",
              "      <td>0.000000</td>\n",
              "      <td>0.000000</td>\n",
              "      <td>2539.123000</td>\n",
              "      <td>1298.345090</td>\n",
              "      <td>14.560220</td>\n",
              "      <td>0.000000</td>\n",
              "      <td>0.000000</td>\n",
              "      <td>6628.006000</td>\n",
              "      <td>3390.675540</td>\n",
              "      <td>33.955852</td>\n",
              "      <td>0.000000</td>\n",
              "      <td>0.000000</td>\n",
              "      <td>6601.803710</td>\n",
              "      <td>3374.415770</td>\n",
              "      <td>30.016663</td>\n",
              "      <td>0.000000</td>\n",
              "      <td>0.000000</td>\n",
              "      <td>3240.743650</td>\n",
              "      <td>1653.173000</td>\n",
              "      <td>10.000000</td>\n",
              "      <td>0.000000</td>\n",
              "      <td>0.000000</td>\n",
              "      <td>2630.389400</td>\n",
              "      <td>1343.505860</td>\n",
              "      <td>10.198039</td>\n",
              "      <td>0.000000</td>\n",
              "      <td>0.000000</td>\n",
              "      <td>3525.310790</td>\n",
              "      <td>1800.873410</td>\n",
              "      <td>20.880613</td>\n",
              "    </tr>\n",
              "    <tr>\n",
              "      <th>...</th>\n",
              "      <td>...</td>\n",
              "      <td>...</td>\n",
              "      <td>...</td>\n",
              "      <td>...</td>\n",
              "      <td>...</td>\n",
              "      <td>...</td>\n",
              "      <td>...</td>\n",
              "      <td>...</td>\n",
              "      <td>...</td>\n",
              "      <td>...</td>\n",
              "      <td>...</td>\n",
              "      <td>...</td>\n",
              "      <td>...</td>\n",
              "      <td>...</td>\n",
              "      <td>...</td>\n",
              "      <td>...</td>\n",
              "      <td>...</td>\n",
              "      <td>...</td>\n",
              "      <td>...</td>\n",
              "      <td>...</td>\n",
              "      <td>...</td>\n",
              "      <td>...</td>\n",
              "      <td>...</td>\n",
              "      <td>...</td>\n",
              "      <td>...</td>\n",
              "      <td>...</td>\n",
              "      <td>...</td>\n",
              "      <td>...</td>\n",
              "      <td>...</td>\n",
              "      <td>...</td>\n",
              "      <td>...</td>\n",
              "      <td>...</td>\n",
              "      <td>...</td>\n",
              "      <td>...</td>\n",
              "      <td>...</td>\n",
              "    </tr>\n",
              "    <tr>\n",
              "      <th>10912</th>\n",
              "      <td>6.000000</td>\n",
              "      <td>3.162278</td>\n",
              "      <td>4.123106</td>\n",
              "      <td>277.074000</td>\n",
              "      <td>0.000000</td>\n",
              "      <td>7.000000</td>\n",
              "      <td>2.828427</td>\n",
              "      <td>21.931713</td>\n",
              "      <td>165.873444</td>\n",
              "      <td>0.000000</td>\n",
              "      <td>9.848858</td>\n",
              "      <td>44.777226</td>\n",
              "      <td>278.115082</td>\n",
              "      <td>369.362976</td>\n",
              "      <td>0.000000</td>\n",
              "      <td>22.203604</td>\n",
              "      <td>119.603508</td>\n",
              "      <td>704.979431</td>\n",
              "      <td>1073.778320</td>\n",
              "      <td>0.000000</td>\n",
              "      <td>25.553865</td>\n",
              "      <td>124.807854</td>\n",
              "      <td>711.152600</td>\n",
              "      <td>991.286560</td>\n",
              "      <td>0.000000</td>\n",
              "      <td>16.124516</td>\n",
              "      <td>52.810986</td>\n",
              "      <td>296.285339</td>\n",
              "      <td>512.181600</td>\n",
              "      <td>0.000000</td>\n",
              "      <td>8.246211</td>\n",
              "      <td>9.000000</td>\n",
              "      <td>45.541190</td>\n",
              "      <td>358.959600</td>\n",
              "      <td>0.000000</td>\n",
              "    </tr>\n",
              "    <tr>\n",
              "      <th>10913</th>\n",
              "      <td>1.414214</td>\n",
              "      <td>3.605551</td>\n",
              "      <td>6.324555</td>\n",
              "      <td>9.055386</td>\n",
              "      <td>275.771637</td>\n",
              "      <td>1.000000</td>\n",
              "      <td>4.472136</td>\n",
              "      <td>34.481880</td>\n",
              "      <td>7.810250</td>\n",
              "      <td>117.239075</td>\n",
              "      <td>7.071068</td>\n",
              "      <td>26.019224</td>\n",
              "      <td>238.096619</td>\n",
              "      <td>61.073727</td>\n",
              "      <td>407.276300</td>\n",
              "      <td>25.553865</td>\n",
              "      <td>27.202942</td>\n",
              "      <td>434.549200</td>\n",
              "      <td>248.600082</td>\n",
              "      <td>870.091900</td>\n",
              "      <td>36.359318</td>\n",
              "      <td>35.057095</td>\n",
              "      <td>318.402252</td>\n",
              "      <td>309.025879</td>\n",
              "      <td>674.638400</td>\n",
              "      <td>23.194826</td>\n",
              "      <td>39.812058</td>\n",
              "      <td>88.119240</td>\n",
              "      <td>140.206985</td>\n",
              "      <td>399.011300</td>\n",
              "      <td>6.000000</td>\n",
              "      <td>13.601471</td>\n",
              "      <td>4.472136</td>\n",
              "      <td>9.219544</td>\n",
              "      <td>342.112549</td>\n",
              "    </tr>\n",
              "    <tr>\n",
              "      <th>10914</th>\n",
              "      <td>4.123106</td>\n",
              "      <td>5.000000</td>\n",
              "      <td>4.472136</td>\n",
              "      <td>187.096237</td>\n",
              "      <td>0.000000</td>\n",
              "      <td>5.656854</td>\n",
              "      <td>37.215588</td>\n",
              "      <td>27.166155</td>\n",
              "      <td>120.768372</td>\n",
              "      <td>0.000000</td>\n",
              "      <td>43.737854</td>\n",
              "      <td>114.756264</td>\n",
              "      <td>138.740768</td>\n",
              "      <td>478.117126</td>\n",
              "      <td>0.000000</td>\n",
              "      <td>108.231232</td>\n",
              "      <td>127.612694</td>\n",
              "      <td>264.969818</td>\n",
              "      <td>881.767500</td>\n",
              "      <td>0.000000</td>\n",
              "      <td>102.927162</td>\n",
              "      <td>62.361847</td>\n",
              "      <td>211.624664</td>\n",
              "      <td>549.015500</td>\n",
              "      <td>0.000000</td>\n",
              "      <td>39.924930</td>\n",
              "      <td>17.492855</td>\n",
              "      <td>65.007690</td>\n",
              "      <td>211.101868</td>\n",
              "      <td>0.000000</td>\n",
              "      <td>10.000000</td>\n",
              "      <td>9.219544</td>\n",
              "      <td>10.440307</td>\n",
              "      <td>216.748700</td>\n",
              "      <td>0.000000</td>\n",
              "    </tr>\n",
              "    <tr>\n",
              "      <th>10915</th>\n",
              "      <td>3.162278</td>\n",
              "      <td>5.000000</td>\n",
              "      <td>8.944272</td>\n",
              "      <td>131.244049</td>\n",
              "      <td>0.000000</td>\n",
              "      <td>31.016125</td>\n",
              "      <td>44.944410</td>\n",
              "      <td>147.299011</td>\n",
              "      <td>164.541800</td>\n",
              "      <td>0.000000</td>\n",
              "      <td>74.525160</td>\n",
              "      <td>107.703293</td>\n",
              "      <td>410.561800</td>\n",
              "      <td>650.668900</td>\n",
              "      <td>0.000000</td>\n",
              "      <td>73.409805</td>\n",
              "      <td>104.292854</td>\n",
              "      <td>454.156372</td>\n",
              "      <td>873.459800</td>\n",
              "      <td>0.000000</td>\n",
              "      <td>27.459060</td>\n",
              "      <td>42.720020</td>\n",
              "      <td>207.099014</td>\n",
              "      <td>396.203217</td>\n",
              "      <td>0.000000</td>\n",
              "      <td>3.605551</td>\n",
              "      <td>16.763054</td>\n",
              "      <td>26.925823</td>\n",
              "      <td>205.156036</td>\n",
              "      <td>0.000000</td>\n",
              "      <td>5.099020</td>\n",
              "      <td>18.027756</td>\n",
              "      <td>11.180340</td>\n",
              "      <td>193.196800</td>\n",
              "      <td>0.000000</td>\n",
              "    </tr>\n",
              "    <tr>\n",
              "      <th>10916</th>\n",
              "      <td>8.062258</td>\n",
              "      <td>6.324555</td>\n",
              "      <td>7.071068</td>\n",
              "      <td>72.367120</td>\n",
              "      <td>0.000000</td>\n",
              "      <td>7.071068</td>\n",
              "      <td>8.062258</td>\n",
              "      <td>28.000000</td>\n",
              "      <td>222.800354</td>\n",
              "      <td>0.000000</td>\n",
              "      <td>3.000000</td>\n",
              "      <td>29.068884</td>\n",
              "      <td>175.513535</td>\n",
              "      <td>316.180328</td>\n",
              "      <td>0.000000</td>\n",
              "      <td>9.433981</td>\n",
              "      <td>51.865210</td>\n",
              "      <td>363.551900</td>\n",
              "      <td>457.219849</td>\n",
              "      <td>0.000000</td>\n",
              "      <td>9.486833</td>\n",
              "      <td>38.948685</td>\n",
              "      <td>308.235300</td>\n",
              "      <td>289.110718</td>\n",
              "      <td>0.000000</td>\n",
              "      <td>7.071068</td>\n",
              "      <td>11.401754</td>\n",
              "      <td>104.086500</td>\n",
              "      <td>179.655228</td>\n",
              "      <td>0.000000</td>\n",
              "      <td>9.219544</td>\n",
              "      <td>8.062258</td>\n",
              "      <td>16.970562</td>\n",
              "      <td>225.248749</td>\n",
              "      <td>0.000000</td>\n",
              "    </tr>\n",
              "  </tbody>\n",
              "</table>\n",
              "<p>49617 rows × 35 columns</p>\n",
              "</div>"
            ],
            "text/plain": [
              "            PA1       PA2          PA3  ...         PA33         PA34        PA35\n",
              "0      0.000000  0.000000  2521.468750  ...  3291.649000  1687.111080   16.155495\n",
              "1      0.000000  0.000000  2493.030270  ...  3158.696000  1625.601440   17.029386\n",
              "2      0.000000  0.000000  2517.604740  ...  3541.702000  1814.907710   25.709920\n",
              "3      0.000000  0.000000  2499.066160  ...  3460.129150  1781.833860   26.476404\n",
              "4      0.000000  0.000000  2518.223630  ...  3525.310790  1800.873410   20.880613\n",
              "...         ...       ...          ...  ...          ...          ...         ...\n",
              "10912  6.000000  3.162278     4.123106  ...    45.541190   358.959600    0.000000\n",
              "10913  1.414214  3.605551     6.324555  ...     4.472136     9.219544  342.112549\n",
              "10914  4.123106  5.000000     4.472136  ...    10.440307   216.748700    0.000000\n",
              "10915  3.162278  5.000000     8.944272  ...    11.180340   193.196800    0.000000\n",
              "10916  8.062258  6.324555     7.071068  ...    16.970562   225.248749    0.000000\n",
              "\n",
              "[49617 rows x 35 columns]"
            ]
          },
          "metadata": {
            "tags": []
          },
          "execution_count": 16
        }
      ]
    },
    {
      "cell_type": "code",
      "metadata": {
        "id": "V22HGYiMPBLb",
        "colab": {
          "base_uri": "https://localhost:8080/"
        },
        "outputId": "65634830-511b-48f8-a414-007f90c0c0cc"
      },
      "source": [
        "x1.shape"
      ],
      "execution_count": null,
      "outputs": [
        {
          "output_type": "execute_result",
          "data": {
            "text/plain": [
              "(49617, 5, 7, 1)"
            ]
          },
          "metadata": {
            "tags": []
          },
          "execution_count": 17
        }
      ]
    },
    {
      "cell_type": "code",
      "metadata": {
        "id": "Mpf2DWVZqykV",
        "colab": {
          "base_uri": "https://localhost:8080/"
        },
        "outputId": "3e08bd80-0820-4589-fb6d-8678a1ef1c16"
      },
      "source": [
        "y"
      ],
      "execution_count": null,
      "outputs": [
        {
          "output_type": "execute_result",
          "data": {
            "text/plain": [
              "0        0\n",
              "1        0\n",
              "2        0\n",
              "3        0\n",
              "4        0\n",
              "        ..\n",
              "10912    3\n",
              "10913    3\n",
              "10914    3\n",
              "10915    3\n",
              "10916    3\n",
              "Name: ObjType, Length: 49617, dtype: int64"
            ]
          },
          "metadata": {
            "tags": []
          },
          "execution_count": 18
        }
      ]
    },
    {
      "cell_type": "code",
      "metadata": {
        "id": "0jNA9JaPPVmw"
      },
      "source": [
        "from sklearn.model_selection import train_test_split\n",
        "X_train, X_test, y_train, y_test = train_test_split(x1, y, test_size=0.3, random_state=1)"
      ],
      "execution_count": null,
      "outputs": []
    },
    {
      "cell_type": "code",
      "metadata": {
        "id": "b5_giSAkPVu4",
        "colab": {
          "base_uri": "https://localhost:8080/"
        },
        "outputId": "f6bba943-d51c-4725-8939-4c84733d2bc1"
      },
      "source": [
        "X_train.shape"
      ],
      "execution_count": null,
      "outputs": [
        {
          "output_type": "execute_result",
          "data": {
            "text/plain": [
              "(34731, 5, 7, 1)"
            ]
          },
          "metadata": {
            "tags": []
          },
          "execution_count": 20
        }
      ]
    },
    {
      "cell_type": "code",
      "metadata": {
        "id": "3AGRwOxlPVro",
        "colab": {
          "base_uri": "https://localhost:8080/"
        },
        "outputId": "2971000d-bfb9-4515-9a57-a1592b3d4d99"
      },
      "source": [
        "y_train.shape"
      ],
      "execution_count": null,
      "outputs": [
        {
          "output_type": "execute_result",
          "data": {
            "text/plain": [
              "(34731,)"
            ]
          },
          "metadata": {
            "tags": []
          },
          "execution_count": 21
        }
      ]
    },
    {
      "cell_type": "code",
      "metadata": {
        "id": "h3KH_YlDPVkx",
        "colab": {
          "base_uri": "https://localhost:8080/"
        },
        "outputId": "25891296-a576-465e-95ab-4e52b5f2ea26"
      },
      "source": [
        "X_test.shape"
      ],
      "execution_count": null,
      "outputs": [
        {
          "output_type": "execute_result",
          "data": {
            "text/plain": [
              "(14886, 5, 7, 1)"
            ]
          },
          "metadata": {
            "tags": []
          },
          "execution_count": 22
        }
      ]
    },
    {
      "cell_type": "code",
      "metadata": {
        "id": "nQ2vka7dPjBQ",
        "colab": {
          "base_uri": "https://localhost:8080/"
        },
        "outputId": "3a34b530-c95b-49b8-cb75-b9c5be642c14"
      },
      "source": [
        "y_test.shape"
      ],
      "execution_count": null,
      "outputs": [
        {
          "output_type": "execute_result",
          "data": {
            "text/plain": [
              "(14886,)"
            ]
          },
          "metadata": {
            "tags": []
          },
          "execution_count": 23
        }
      ]
    },
    {
      "cell_type": "code",
      "metadata": {
        "id": "4fYONhcXPmNM"
      },
      "source": [
        "import keras \n",
        "y_train = keras.utils.to_categorical(y_train, num_classes)\n",
        "y_test = keras.utils.to_categorical(y_test, num_classes)"
      ],
      "execution_count": null,
      "outputs": []
    },
    {
      "cell_type": "code",
      "metadata": {
        "id": "ups93ICOPmKz",
        "colab": {
          "base_uri": "https://localhost:8080/"
        },
        "outputId": "bab319e8-ce56-46d1-ab01-62a0edf26249"
      },
      "source": [
        "y_train"
      ],
      "execution_count": null,
      "outputs": [
        {
          "output_type": "execute_result",
          "data": {
            "text/plain": [
              "array([[0., 0., 0., 1.],\n",
              "       [0., 1., 0., 0.],\n",
              "       [0., 0., 1., 0.],\n",
              "       ...,\n",
              "       [1., 0., 0., 0.],\n",
              "       [1., 0., 0., 0.],\n",
              "       [0., 0., 1., 0.]], dtype=float32)"
            ]
          },
          "metadata": {
            "tags": []
          },
          "execution_count": 25
        }
      ]
    },
    {
      "cell_type": "code",
      "metadata": {
        "id": "fvqb1UwiPmH0",
        "colab": {
          "base_uri": "https://localhost:8080/"
        },
        "outputId": "1ed5e857-25b2-406a-8da6-f2ac1e397762"
      },
      "source": [
        "import keras\n",
        "from keras.models import Sequential\n",
        "from keras.layers import Dense, Dropout, Flatten\n",
        "from keras.layers import Conv2D, MaxPooling2D\n",
        "from keras.optimizers import Adam\n",
        "from keras.losses import categorical_crossentropy\n",
        "\n",
        "model = Sequential()\n",
        "\n",
        "model.add(Conv2D(32, kernel_size=(1, 1), activation='relu', input_shape = input_shape))\n",
        "\n",
        "model.add(Conv2D(64, (2, 3), activation='relu'))\n",
        "\n",
        "model.add(Dropout(0.20))\n",
        "\n",
        "model.add(Flatten())\n",
        "\n",
        "model.add(Dense(128, activation='relu'))\n",
        "\n",
        "model.add(Dropout(0.3))\n",
        "\n",
        "model.add(Dense(num_classes, activation='softmax'))\n",
        "model.summary()"
      ],
      "execution_count": null,
      "outputs": [
        {
          "output_type": "stream",
          "text": [
            "Model: \"sequential\"\n",
            "_________________________________________________________________\n",
            "Layer (type)                 Output Shape              Param #   \n",
            "=================================================================\n",
            "conv2d (Conv2D)              (None, 5, 7, 32)          64        \n",
            "_________________________________________________________________\n",
            "conv2d_1 (Conv2D)            (None, 4, 5, 64)          12352     \n",
            "_________________________________________________________________\n",
            "dropout (Dropout)            (None, 4, 5, 64)          0         \n",
            "_________________________________________________________________\n",
            "flatten (Flatten)            (None, 1280)              0         \n",
            "_________________________________________________________________\n",
            "dense (Dense)                (None, 128)               163968    \n",
            "_________________________________________________________________\n",
            "dropout_1 (Dropout)          (None, 128)               0         \n",
            "_________________________________________________________________\n",
            "dense_1 (Dense)              (None, 4)                 516       \n",
            "=================================================================\n",
            "Total params: 176,900\n",
            "Trainable params: 176,900\n",
            "Non-trainable params: 0\n",
            "_________________________________________________________________\n"
          ],
          "name": "stdout"
        }
      ]
    },
    {
      "cell_type": "code",
      "metadata": {
        "id": "qrQSV0l6PzR-"
      },
      "source": [
        "from keras.optimizers import Adam\n",
        "from keras.losses import categorical_crossentropy\n",
        "\n",
        "optimizer = Adam(lr=0.001)\n",
        "\n",
        "model.compile(loss='categorical_crossentropy', optimizer=optimizer, metrics=['accuracy'])"
      ],
      "execution_count": null,
      "outputs": []
    },
    {
      "cell_type": "code",
      "metadata": {
        "id": "x9vBdQVlPzWg",
        "colab": {
          "base_uri": "https://localhost:8080/"
        },
        "outputId": "3e195614-991d-4483-f7f5-80e9a7dc417c"
      },
      "source": [
        "history = model.fit(X_train, y_train,\n",
        "          batch_size=20,\n",
        "          epochs=15,\n",
        "          verbose=1, validation_data=(X_test,y_test))"
      ],
      "execution_count": null,
      "outputs": [
        {
          "output_type": "stream",
          "text": [
            "Epoch 1/15\n",
            "1737/1737 [==============================] - 10s 6ms/step - loss: 2.2266 - accuracy: 0.5718 - val_loss: 0.7292 - val_accuracy: 0.6426\n",
            "Epoch 2/15\n",
            "1737/1737 [==============================] - 9s 5ms/step - loss: 0.7393 - accuracy: 0.6427 - val_loss: 0.6280 - val_accuracy: 0.6958\n",
            "Epoch 3/15\n",
            "1737/1737 [==============================] - 9s 5ms/step - loss: 0.6894 - accuracy: 0.6596 - val_loss: 0.6451 - val_accuracy: 0.6692\n",
            "Epoch 4/15\n",
            "1737/1737 [==============================] - 10s 6ms/step - loss: 0.6918 - accuracy: 0.6672 - val_loss: 0.5544 - val_accuracy: 0.7615\n",
            "Epoch 5/15\n",
            "1737/1737 [==============================] - 9s 5ms/step - loss: 0.6252 - accuracy: 0.7025 - val_loss: 0.4995 - val_accuracy: 0.7870\n",
            "Epoch 6/15\n",
            "1737/1737 [==============================] - 9s 5ms/step - loss: 0.5750 - accuracy: 0.7328 - val_loss: 0.4253 - val_accuracy: 0.8062\n",
            "Epoch 7/15\n",
            "1737/1737 [==============================] - 9s 5ms/step - loss: 0.5134 - accuracy: 0.7768 - val_loss: 0.3382 - val_accuracy: 0.8586\n",
            "Epoch 8/15\n",
            "1737/1737 [==============================] - 9s 5ms/step - loss: 0.4166 - accuracy: 0.8261 - val_loss: 0.2658 - val_accuracy: 0.9170\n",
            "Epoch 9/15\n",
            "1737/1737 [==============================] - 9s 5ms/step - loss: 0.3590 - accuracy: 0.8525 - val_loss: 0.2148 - val_accuracy: 0.9271\n",
            "Epoch 10/15\n",
            "1737/1737 [==============================] - 10s 6ms/step - loss: 0.3266 - accuracy: 0.8686 - val_loss: 0.2021 - val_accuracy: 0.9367\n",
            "Epoch 11/15\n",
            "1737/1737 [==============================] - 10s 5ms/step - loss: 0.3032 - accuracy: 0.8822 - val_loss: 0.1696 - val_accuracy: 0.9495\n",
            "Epoch 12/15\n",
            "1737/1737 [==============================] - 10s 5ms/step - loss: 0.2724 - accuracy: 0.8952 - val_loss: 0.1553 - val_accuracy: 0.9498\n",
            "Epoch 13/15\n",
            "1737/1737 [==============================] - 10s 6ms/step - loss: 0.2619 - accuracy: 0.9010 - val_loss: 0.1466 - val_accuracy: 0.9528\n",
            "Epoch 14/15\n",
            "1737/1737 [==============================] - 11s 6ms/step - loss: 0.2510 - accuracy: 0.9060 - val_loss: 0.1173 - val_accuracy: 0.9694\n",
            "Epoch 15/15\n",
            "1737/1737 [==============================] - 12s 7ms/step - loss: 0.2328 - accuracy: 0.9132 - val_loss: 0.1000 - val_accuracy: 0.9721\n"
          ],
          "name": "stdout"
        }
      ]
    },
    {
      "cell_type": "code",
      "metadata": {
        "id": "rF9uSOaHQ6PP",
        "colab": {
          "base_uri": "https://localhost:8080/"
        },
        "outputId": "0724130f-57ce-4e4f-b629-54e68dcae3f6"
      },
      "source": [
        "model.evaluate(X_train,y_train)"
      ],
      "execution_count": null,
      "outputs": [
        {
          "output_type": "stream",
          "text": [
            "1086/1086 [==============================] - 3s 2ms/step - loss: 0.0999 - accuracy: 0.9723\n"
          ],
          "name": "stdout"
        },
        {
          "output_type": "execute_result",
          "data": {
            "text/plain": [
              "[0.09989115595817566, 0.9723302125930786]"
            ]
          },
          "metadata": {
            "tags": []
          },
          "execution_count": 29
        }
      ]
    },
    {
      "cell_type": "code",
      "metadata": {
        "colab": {
          "base_uri": "https://localhost:8080/"
        },
        "id": "-kZE6XHNe8nM",
        "outputId": "65329b00-7899-4acb-9cff-1713ede07900"
      },
      "source": [
        "model.evaluate(X_test,y_test)"
      ],
      "execution_count": null,
      "outputs": [
        {
          "output_type": "stream",
          "text": [
            "466/466 [==============================] - 1s 2ms/step - loss: 0.1000 - accuracy: 0.9721\n"
          ],
          "name": "stdout"
        },
        {
          "output_type": "execute_result",
          "data": {
            "text/plain": [
              "[0.10001488029956818, 0.9720543026924133]"
            ]
          },
          "metadata": {
            "tags": []
          },
          "execution_count": 30
        }
      ]
    },
    {
      "cell_type": "code",
      "metadata": {
        "colab": {
          "base_uri": "https://localhost:8080/",
          "height": 590
        },
        "id": "Qlw5Mpq-h9yg",
        "outputId": "a1245ce1-a65f-435c-d990-c6caaf1a76da"
      },
      "source": [
        "import matplotlib.pyplot as plt\n",
        "\n",
        "print(history.history.keys())\n",
        "# summarize history for accuracy\n",
        "plt.plot(history.history['accuracy'])\n",
        "plt.plot(history.history['val_accuracy'])\n",
        "plt.title('model accuracy')\n",
        "plt.ylabel('accuracy')\n",
        "plt.xlabel('epoch')\n",
        "plt.legend(['train', 'test'], loc='upper left')\n",
        "plt.show()\n",
        "# summarize history for loss\n",
        "plt.plot(history.history['loss'])\n",
        "plt.plot(history.history['val_loss'])\n",
        "plt.title('model loss')\n",
        "plt.ylabel('loss')\n",
        "plt.xlabel('epoch')\n",
        "plt.legend(['train', 'test'], loc='upper left')\n",
        "plt.show()"
      ],
      "execution_count": null,
      "outputs": [
        {
          "output_type": "stream",
          "text": [
            "dict_keys(['loss', 'accuracy', 'val_loss', 'val_accuracy'])\n"
          ],
          "name": "stdout"
        },
        {
          "output_type": "display_data",
          "data": {
            "image/png": "[encoded data removed]",
            "text/plain": [
              "<Figure size 432x288 with 1 Axes>"
            ]
          },
          "metadata": {
            "tags": [],
            "needs_background": "light"
          }
        },
        {
          "output_type": "display_data",
          "data": {
            "image/png": "[encoded data removed]",
            "text/plain": [
              "<Figure size 432x288 with 1 Axes>"
            ]
          },
          "metadata": {
            "tags": [],
            "needs_background": "light"
          }
        }
      ]
    },
    {
      "cell_type": "code",
      "metadata": {
        "id": "pSStuJscgYLq"
      },
      "source": [
        "## revaluation"
      ],
      "execution_count": null,
      "outputs": []
    },
    {
      "cell_type": "code",
      "metadata": {
        "id": "MO6gFCVCrbnU"
      },
      "source": [
        "y_pred=model.predict(X_test)"
      ],
      "execution_count": null,
      "outputs": []
    },
    {
      "cell_type": "code",
      "metadata": {
        "id": "RmHhRcDKr5cV",
        "colab": {
          "base_uri": "https://localhost:8080/"
        },
        "outputId": "e9658bd2-af94-4bc8-dcd4-884156396bd5"
      },
      "source": [
        "y_pred"
      ],
      "execution_count": null,
      "outputs": [
        {
          "output_type": "execute_result",
          "data": {
            "text/plain": [
              "array([[9.2837604e-07, 9.6693853e-05, 9.9978608e-01, 1.1638228e-04],\n",
              "       [8.3127957e-34, 0.0000000e+00, 0.0000000e+00, 1.0000000e+00],\n",
              "       [4.5545758e-03, 8.4549867e-02, 9.0727085e-01, 3.6247023e-03],\n",
              "       ...,\n",
              "       [0.0000000e+00, 0.0000000e+00, 0.0000000e+00, 1.0000000e+00],\n",
              "       [9.9875116e-01, 1.2487693e-03, 0.0000000e+00, 1.0266131e-24],\n",
              "       [1.5712179e-03, 7.9853041e-03, 9.8956364e-01, 8.7991828e-04]],\n",
              "      dtype=float32)"
            ]
          },
          "metadata": {
            "tags": []
          },
          "execution_count": 34
        }
      ]
    },
    {
      "cell_type": "code",
      "metadata": {
        "id": "tV9lR21BsoI-",
        "colab": {
          "base_uri": "https://localhost:8080/"
        },
        "outputId": "b5cfa20f-2d41-4f77-f679-f12c5759c7cc"
      },
      "source": [
        "y_classes = y_pred.argmax(axis=-1)\n",
        "y_classes"
      ],
      "execution_count": null,
      "outputs": [
        {
          "output_type": "execute_result",
          "data": {
            "text/plain": [
              "array([2, 3, 2, ..., 3, 0, 2])"
            ]
          },
          "metadata": {
            "tags": []
          },
          "execution_count": 35
        }
      ]
    },
    {
      "cell_type": "code",
      "metadata": {
        "id": "31zUE1ZXwjiY",
        "colab": {
          "base_uri": "https://localhost:8080/"
        },
        "outputId": "2f291eb0-ab06-468e-e7a8-2be396742fe2"
      },
      "source": [
        "y_classes1 = keras.utils.to_categorical(y_classes, num_classes)\n",
        "y_classes1"
      ],
      "execution_count": null,
      "outputs": [
        {
          "output_type": "execute_result",
          "data": {
            "text/plain": [
              "array([[0., 0., 1., 0.],\n",
              "       [0., 0., 0., 1.],\n",
              "       [0., 0., 1., 0.],\n",
              "       ...,\n",
              "       [0., 0., 0., 1.],\n",
              "       [1., 0., 0., 0.],\n",
              "       [0., 0., 1., 0.]], dtype=float32)"
            ]
          },
          "metadata": {
            "tags": []
          },
          "execution_count": 36
        }
      ]
    },
    {
      "cell_type": "code",
      "metadata": {
        "id": "Slc8_gnawjuA",
        "colab": {
          "base_uri": "https://localhost:8080/"
        },
        "outputId": "997aa573-520a-43c3-d742-2cfa720f42c5"
      },
      "source": [
        "from sklearn.metrics import accuracy_score\n",
        "accuracy = accuracy_score(y_test, y_classes1)\n",
        "accuracy"
      ],
      "execution_count": null,
      "outputs": [
        {
          "output_type": "execute_result",
          "data": {
            "text/plain": [
              "0.9720542791884993"
            ]
          },
          "metadata": {
            "tags": []
          },
          "execution_count": 37
        }
      ]
    },
    {
      "cell_type": "code",
      "metadata": {
        "id": "NpoxqAtUwi3d",
        "colab": {
          "base_uri": "https://localhost:8080/"
        },
        "outputId": "2a5672c1-8810-4f73-a562-e90dfe08f2ce"
      },
      "source": [
        "from sklearn.metrics import confusion_matrix\n",
        "confusion_matrix(y_test.argmax(axis=-1), y_classes1.argmax(axis=-1))"
      ],
      "execution_count": null,
      "outputs": [
        {
          "output_type": "execute_result",
          "data": {
            "text/plain": [
              "array([[3868,   87,   42,    0],\n",
              "       [ 133, 4081,   45,    0],\n",
              "       [  50,   54, 3251,    0],\n",
              "       [   1,    3,    1, 3270]])"
            ]
          },
          "metadata": {
            "tags": []
          },
          "execution_count": 38
        }
      ]
    },
    {
      "cell_type": "code",
      "metadata": {
        "id": "pCI90QZqq2dW"
      },
      "source": [
        "##   save the model  ###\n",
        "\n",
        "##model.save(\"/content/drive/My Drive/Radar data/data-nov/data/model2.h5\")\n"
      ],
      "execution_count": null,
      "outputs": []
    }
  ]
}